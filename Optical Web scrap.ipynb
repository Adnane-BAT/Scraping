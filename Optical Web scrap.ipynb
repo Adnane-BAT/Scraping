{
 "cells": [
  {
   "cell_type": "code",
   "execution_count": 1,
   "metadata": {},
   "outputs": [
    {
     "ename": "ModuleNotFoundError",
     "evalue": "No module named 'selenium'",
     "output_type": "error",
     "traceback": [
      "\u001b[1;31m---------------------------------------------------------------------------\u001b[0m",
      "\u001b[1;31mModuleNotFoundError\u001b[0m                       Traceback (most recent call last)",
      "\u001b[1;32mC:\\Users\\ABACHI~1\\AppData\\Local\\Temp/ipykernel_22064/2644669557.py\u001b[0m in \u001b[0;36m<module>\u001b[1;34m\u001b[0m\n\u001b[0;32m      1\u001b[0m \u001b[1;32mimport\u001b[0m \u001b[0mpandas\u001b[0m \u001b[1;32mas\u001b[0m \u001b[0mpd\u001b[0m\u001b[1;33m\u001b[0m\u001b[1;33m\u001b[0m\u001b[0m\n\u001b[1;32m----> 2\u001b[1;33m \u001b[1;32mfrom\u001b[0m \u001b[0mselenium\u001b[0m \u001b[1;32mimport\u001b[0m \u001b[0mwebdriver\u001b[0m\u001b[1;33m\u001b[0m\u001b[1;33m\u001b[0m\u001b[0m\n\u001b[0m\u001b[0;32m      3\u001b[0m \u001b[1;32mimport\u001b[0m \u001b[0mre\u001b[0m\u001b[1;33m\u001b[0m\u001b[1;33m\u001b[0m\u001b[0m\n\u001b[0;32m      4\u001b[0m \u001b[1;32mfrom\u001b[0m \u001b[0mselenium\u001b[0m\u001b[1;33m.\u001b[0m\u001b[0mwebdriver\u001b[0m\u001b[1;33m.\u001b[0m\u001b[0msupport\u001b[0m\u001b[1;33m.\u001b[0m\u001b[0mui\u001b[0m \u001b[1;32mimport\u001b[0m \u001b[0mWebDriverWait\u001b[0m\u001b[1;33m\u001b[0m\u001b[1;33m\u001b[0m\u001b[0m\n\u001b[0;32m      5\u001b[0m \u001b[1;32mfrom\u001b[0m \u001b[0mselenium\u001b[0m\u001b[1;33m.\u001b[0m\u001b[0mwebdriver\u001b[0m\u001b[1;33m.\u001b[0m\u001b[0msupport\u001b[0m \u001b[1;32mimport\u001b[0m \u001b[0mexpected_conditions\u001b[0m \u001b[1;32mas\u001b[0m \u001b[0mEC\u001b[0m\u001b[1;33m\u001b[0m\u001b[1;33m\u001b[0m\u001b[0m\n",
      "\u001b[1;31mModuleNotFoundError\u001b[0m: No module named 'selenium'"
     ]
    }
   ],
   "source": [
    "import pandas as pd\n",
    "from selenium import webdriver\n",
    "import re\n",
    "from selenium.webdriver.support.ui import WebDriverWait\n",
    "from selenium.webdriver.support import expected_conditions as EC\n",
    "from selenium.webdriver.support import expected_conditions\n",
    "from selenium.webdriver.common.by import By\n",
    "from selenium.webdriver.support.ui import WebDriverWait\n",
    "from selenium.common.exceptions import NoSuchElementException, ElementClickInterceptedException\n",
    "from selenium.common.exceptions import TimeoutException, StaleElementReferenceException\n"
   ]
  },
  {
   "cell_type": "code",
   "execution_count": null,
   "metadata": {},
   "outputs": [],
   "source": [
    "from time import sleep\n",
    "def scraper_complete(url,country,brand):\n",
    "    driver = webdriver.Chrome(r\"C:\\Users\\surbhijain4\\Desktop\\chromedriver.exe\")\n",
    "    driver.get(url)\n",
    "    data=pd.DataFrame(columns=['Country','Brand','Company Name','Address'])\n",
    "    elems = driver.find_elements_by_xpath(\".//*[starts-with(@class, 'C8TUKc rllt__link a-no-hover-decoration')]\")\n",
    "    wait = WebDriverWait(driver, 10)\n",
    "    for el in elems:\n",
    "        try:\n",
    "            company_name=el.text.split(\"\\n\")[0]\n",
    "            el.click()\n",
    "            sleep(5)\n",
    "            txt=WebDriverWait(driver, 20).until(EC.visibility_of_element_located((By.XPATH, \".//*[starts-with(@class, 'LrzXr')]\")))\n",
    "            address=txt.text\n",
    "            data=data.append({'Country':country,'Brand':brand,'Company Name':company_name,'Company Name':company_name,'Address':address}, ignore_index=True)\n",
    "        except:\n",
    "            continue\n",
    "    while True:\n",
    "        try:\n",
    "            wait.until(expected_conditions.element_to_be_clickable((By.ID, 'pnnext'))).click()\n",
    "            sleep(3)\n",
    "            elems = driver.find_elements_by_xpath(\".//*[starts-with(@class, 'C8TUKc rllt__link a-no-hover-decoration')]\")\n",
    "            for el in elems:\n",
    "                try:\n",
    "                    company_name=el.text.split(\"\\n\")[0]\n",
    "                    el.click()\n",
    "                    sleep(5)\n",
    "                    txt=WebDriverWait(driver, 20).until(EC.visibility_of_element_located((By.XPATH, \".//*[starts-with(@class, 'LrzXr')]\")))\n",
    "                    address=txt.text\n",
    "                    data=data.append({'Country':country,'Brand':brand,'Company Name':company_name,'Address':address}, ignore_index=True)\n",
    "                except:\n",
    "                    continue\n",
    "        except (TimeoutException, StaleElementReferenceException) as e:\n",
    "            break\n",
    "            \n",
    "    driver.close()\n",
    "    return(data)\n"
   ]
  },
  {
   "cell_type": "code",
   "execution_count": null,
   "metadata": {},
   "outputs": [],
   "source": [
    "main_links=[['https://www.google.co.in/search?sa=X&tbs=lf:1,lf_ui:10&tbm=lcl&q=Alfa+Romeo+Portugal+address&rflfq=1&num=10&ved=2ahUKEwiwy8qLpqjxAhXY63MBHR7-BK4QjGp6BAgDEE4&biw=1366&bih=657&safe=active&ssui=on#rlfi=hd:;si:;mv:[[41.5044179,-7.822973200000001],[36.8884055,-9.4839225]];tbs:lrf:!1m4!1u3!2m2!3m1!1e1!1m4!1u2!2m2!2m1!1e1!2m1!1e2!2m1!1e3!3sIAE,lf:1,lf_ui:10','Portugal','Alfa Romeo']]"
   ]
  },
  {
   "cell_type": "code",
   "execution_count": null,
   "metadata": {},
   "outputs": [],
   "source": [
    "#main_links=['https://www.google.com/search?tbm=lcl&q=optic+2000+paris+centre&spell=1&sa=X&ved=2ahUKEwiLsdLZ9IzxAhWx73MBHXX2DpIQBSgAegQIAxAW&biw=1366&bih=657&dpr=1&safe=active&ssui=on#rlfi=hd:;si:;mv:[[48.8973273,2.4072137],[48.821946499999996,2.2552486]];start:20']\n",
    "final_data=pd.DataFrame(columns=['Country','Brand','Company Name','Address'])\n",
    "for i in range(0,len(main_links)):\n",
    "    print(main_links[i][0])\n",
    "    new_data=scraper_complete(main_links[i][0],main_links[i][1],main_links[i][2])\n",
    "    final_data=final_data.append(new_data,ignore_index=True)\n",
    "    final_data.to_excel(r\"C:\\Users\\surbhijain4\\Desktop\\Web Scrapping\\Alfa Romeo.xlsx\")\n",
    "    print(final_data)\n"
   ]
  }
 ],
 "metadata": {
  "kernelspec": {
   "display_name": "Python 3 (ipykernel)",
   "language": "python",
   "name": "python3"
  },
  "language_info": {
   "codemirror_mode": {
    "name": "ipython",
    "version": 3
   },
   "file_extension": ".py",
   "mimetype": "text/x-python",
   "name": "python",
   "nbconvert_exporter": "python",
   "pygments_lexer": "ipython3",
   "version": "3.9.7"
  }
 },
 "nbformat": 4,
 "nbformat_minor": 2
}
