{
 "cells": [
  {
   "cell_type": "code",
   "execution_count": null,
   "metadata": {},
   "outputs": [],
   "source": [
    "import pandas as pd\n",
    "from selenium import webdriver\n",
    "import re\n",
    "from selenium.webdriver.support.ui import WebDriverWait\n",
    "from selenium.webdriver.support import expected_conditions as EC\n",
    "from selenium.webdriver.support import expected_conditions\n",
    "from selenium.webdriver.common.by import By\n",
    "from selenium.webdriver.support.ui import WebDriverWait\n",
    "from selenium.common.exceptions import NoSuchElementException, ElementClickInterceptedException\n",
    "from selenium.common.exceptions import TimeoutException, StaleElementReferenceException\n",
    "import os\n",
    "from selenium.webdriver.common.keys import Keys\n",
    "from time import sleep\n",
    "from datetime import datetime"
   ]
  },
  {
   "cell_type": "code",
   "execution_count": null,
   "metadata": {},
   "outputs": [],
   "source": [
    "start_time = datetime.now()\n",
    "filepath = r\"C:\\Users\\anushrees1\\OneDrive - KPMG\\Documents\\WC\\France\\Python Webscrapping\\PlusSimple\\Input\\Address_Lat_Long.xlsx\"\n",
    "sheetname = \"Sheet1\"\n",
    "df = pd.read_excel(filepath,sheet_name=sheetname)\n",
    "\n",
    "#converting address to list\n",
    "AddressList = df['Numero et voie'].tolist()\n",
    "AddressList = ['ZAC DES PLATIERES 71000']\n",
    "driver = webdriver.Chrome(r\"C:\\Users\\anushrees1\\OneDrive - KPMG\\Desktop\\chromedriver.exe\")\n",
    "\n",
    "data=pd.DataFrame(columns=['Address','Latitude','Longitude'])\n",
    "#driver.get(\"https://www.google.com/maps\")\n",
    "\n",
    "for lst in AddressList:\n",
    "    \n",
    "\n",
    "    print(lst)\n",
    "    driver.get(\"https://www.google.com/maps\")\n",
    "    search = driver.find_element_by_xpath(\"//input[@id='searchboxinput']\")\n",
    "    search.clear()\n",
    "    search.send_keys(lst)\n",
    "    search.send_keys(Keys.RETURN) \n",
    "    sleep(0.2)\n",
    "    wait = WebDriverWait(driver, 10)\n",
    "    # orias code variable\n",
    "    addr=lst\n",
    "    #/html/body/div[3]/div[9]/div[8]/div/div[1]/div/div/div[4]/div[1]/div[1]/div/a\n",
    "    #elems = driver.find_elements_by_xpath(\"//*[@id=\\\"pane\\\"]/div/div[1]/div/div/div[4]/div[1]/div[1]/div/a\")\n",
    "    #print(len(elems))\n",
    "    #elems.click()  \n",
    "    \n",
    "    elems = driver.find_elements_by_xpath(\".//*[starts-with(@class, 'a4gq8e-aVTXAb-haAclf-jRmmHf-hSRGPd')]\")\n",
    "    len(elems)\n",
    "    for el in elems:\n",
    "        print(el.text.split(\"\\n\"))\n",
    "        company_name=el.text.split(\"\\n\")[0]\n",
    "        el.click()\n",
    "        sleep(5)"
   ]
  }
 ],
 "metadata": {
  "kernelspec": {
   "display_name": "Python 3",
   "language": "python",
   "name": "python3"
  },
  "language_info": {
   "codemirror_mode": {
    "name": "ipython",
    "version": 3
   },
   "file_extension": ".py",
   "mimetype": "text/x-python",
   "name": "python",
   "nbconvert_exporter": "python",
   "pygments_lexer": "ipython3",
   "version": "3.8.5"
  }
 },
 "nbformat": 4,
 "nbformat_minor": 4
}
