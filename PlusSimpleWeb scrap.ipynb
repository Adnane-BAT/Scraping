{
 "cells": [
  {
   "cell_type": "code",
   "execution_count": null,
   "metadata": {},
   "outputs": [],
   "source": [
    "import pandas as pd\n",
    "from selenium import webdriver\n",
    "import re\n",
    "from time import sleep\n",
    "from selenium.webdriver.support.ui import WebDriverWait\n",
    "from selenium.webdriver.support import expected_conditions as EC\n",
    "from selenium.webdriver.support import expected_conditions\n",
    "from selenium.webdriver.common.by import By\n",
    "from selenium.webdriver.support.ui import WebDriverWait\n",
    "from selenium.common.exceptions import NoSuchElementException, ElementClickInterceptedException\n",
    "from selenium.common.exceptions import TimeoutException, StaleElementReferenceException\n"
   ]
  },
  {
   "cell_type": "code",
   "execution_count": null,
   "metadata": {
    "scrolled": true
   },
   "outputs": [],
   "source": [
    "\n",
    "df = pd.read_excel('C:/workspace/formation/PlusSimple/Scraping/PlusSimple_Code_NAF_scraping.xlsx',sheet_name='Feuil3')\n",
    "driver = webdriver.Chrome(r\"C:\\Users\\abachirahltaleb\\chrome_for_scraping\\chromedriver_win32\\chromedriver.exe\")\n",
    "url = 'https://www.orias.fr/web/guest/search'\n",
    "data=pd.DataFrame(columns=['code ORIAS','siren','immatriculation','code NAF','Adresse1','Adresse2'])\n",
    "driver.get(url)\n",
    "\n",
    "for code_orias in df['orias code']:\n",
    "    try:\n",
    "\n",
    "        sleep(0.2)\n",
    "        inputElem = driver.find_element_by_xpath('//*[@id=\"searchInput\"]')\n",
    "        inputElem.send_keys(code_orias)\n",
    "\n",
    "        searchButt = driver.find_element_by_xpath('//*[@id=\"searchBean\"]/div/input[2]')\n",
    "        searchButt.click()\n",
    "        \n",
    "        if driver.find_element_by_xpath('//*[@id=\"row\"]/tbody/tr/td[7]/a/img'):\n",
    "            print(\"scraping code:\", code_orias)\n",
    "            loopButton = driver.find_element_by_xpath('//*[@id=\"row\"]/tbody/tr/td[7]/a/img')\n",
    "            loopButton.click()\n",
    "\n",
    "            driver.find_element_by_xpath('//*[@id=\"searchInput\"]').clear()\n",
    "            code_orias = code_orias\n",
    "            siren = driver.find_element_by_xpath('//*[@id=\"mainint\"]/div[1]/div/dl[1]/dd[4]').text\n",
    "            immatriculation = code_orias\n",
    "            code_NAF = driver.find_element_by_xpath('//*[@id=\"mainint\"]/div[1]/div/dl[1]/dd[5]').text\n",
    "            Adresse1 = driver.find_element_by_xpath('//*[@id=\"intermediaryCoordinate2\"]/dl[1]/dd[1]').text\n",
    "            Adresse2 = driver.find_element_by_xpath('//*[@id=\"intermediaryCoordinate2\"]/dl[1]/dd[3]').text\n",
    "    #         sleep(1)\n",
    "            data = data.append({'code ORIAS':code_orias,'siren':siren,'immatriculation':code_orias,\n",
    "                              'code NAF':code_NAF,'Adresse1':Adresse1,'Adresse2':Adresse2}, ignore_index=True)\n",
    "        else:\n",
    "            print(code_orias, \"does not exists\")\n",
    "            continue\n",
    "    except:\n",
    "        continue\n",
    "#     except (TimeoutException, StaleElementReferenceException) as e:\n",
    "#         break\n",
    "driver.close()"
   ]
  },
  {
   "cell_type": "code",
   "execution_count": null,
   "metadata": {},
   "outputs": [],
   "source": [
    "data.to_excel(r'C:/workspace/formation/PlusSimple/Scraping/PlusSimple_Orias4_code_NAF.xlsx')"
   ]
  },
  {
   "cell_type": "code",
   "execution_count": null,
   "metadata": {},
   "outputs": [],
   "source": [
    "data"
   ]
  },
  {
   "cell_type": "code",
   "execution_count": null,
   "metadata": {},
   "outputs": [],
   "source": [
    "from time import sleep\n",
    "def scraper_complete(url,country,brand):\n",
    "    driver = webdriver.Chrome(r\"C:\\Users\\abachirahltaleb\\chrome_for_scraping\\chromedriver_win32\\chromedriver.exe\")\n",
    "    driver.get(url)\n",
    "    data=pd.DataFrame(columns=['Country','Brand','Company Name','Address'])\n",
    "    elems = driver.find_elements_by_xpath(\".//*[starts-with(@class, 'C8TUKc rllt__link a-no-hover-decoration')]\")\n",
    "    wait = WebDriverWait(driver, 10)\n",
    "    for el in elems:\n",
    "        try:\n",
    "            company_name=el.text.split(\"\\n\")[0]\n",
    "            el.click()\n",
    "            sleep(1)\n",
    "            txt=WebDriverWait(driver, 20).until(EC.visibility_of_element_located((By.XPATH, \".//*[starts-with(@class, 'LrzXr')]\")))\n",
    "            address=txt.text\n",
    "            data=data.append({'Country':country,'Brand':brand,'Company Name':company_name,'Company Name':company_name,'Address':address}, ignore_index=True)\n",
    "        except:\n",
    "            continue\n",
    "    while True:\n",
    "        try:\n",
    "            wait.until(expected_conditions.element_to_be_clickable((By.ID, 'pnnext'))).click()\n",
    "            sleep(3)\n",
    "            elems = driver.find_elements_by_xpath(\".//*[starts-with(@class, 'C8TUKc rllt__link a-no-hover-decoration')]\")\n",
    "            for el in elems:\n",
    "                try:\n",
    "                    company_name=el.text.split(\"\\n\")[0]\n",
    "                    el.click()\n",
    "                    sleep(5)\n",
    "                    txt=WebDriverWait(driver, 20).until(EC.visibility_of_element_located((By.XPATH, \".//*[starts-with(@class, 'LrzXr')]\")))\n",
    "                    address=txt.text\n",
    "                    data=data.append({'Country':country,'Brand':brand,'Company Name':company_name,'Address':address}, ignore_index=True)\n",
    "        except:\n",
    "            continue\n",
    "        except (TimeoutException, StaleElementReferenceException) as e:\n",
    "            break\n",
    "            \n",
    "    driver.close()\n",
    "    return(data)\n"
   ]
  }
 ],
 "metadata": {
  "kernelspec": {
   "display_name": "Python 3",
   "language": "python",
   "name": "python3"
  },
  "language_info": {
   "codemirror_mode": {
    "name": "ipython",
    "version": 3
   },
   "file_extension": ".py",
   "mimetype": "text/x-python",
   "name": "python",
   "nbconvert_exporter": "python",
   "pygments_lexer": "ipython3",
   "version": "3.8.5"
  }
 },
 "nbformat": 4,
 "nbformat_minor": 2
}
